{
 "cells": [
  {
   "cell_type": "code",
   "execution_count": 2,
   "metadata": {},
   "outputs": [
    {
     "name": "stdout",
     "output_type": "stream",
     "text": [
      "ok:['1', '2']\n"
     ]
    }
   ],
   "source": [
    "print('ok:'+str(['1','2']))"
   ]
  },
  {
   "cell_type": "code",
   "execution_count": 4,
   "metadata": {},
   "outputs": [],
   "source": [
    "A = (\n",
    "        \"\"\"{inviter_name} invites you to join his team. His personal information is as follows:\n",
    "        {personal information}. Current members of his team: {team_member}. Now you have two choices after considering these information: \n",
    "        Action 1: You choose to collaborate with {inviter_name}.\n",
    "        Action 2: You choose to refuse the invitation from {inviter_name}.\n",
    "        Please feel free to make your choice, even if your choice is to decline.\n",
    "        Please select an action and describe your reasoning using the following format:\n",
    "\n",
    "        Thought: <THOUGHT> \n",
    "        \n",
    "        Action: ```json<JSON>```\n",
    "\n",
    "        In <THOUGHT>, Explain why you chose this action, considering factors like the potential for quality, efficiency, and \n",
    "        the challenges involved.\n",
    "        In <JSON>, respond in JSON format with ONLY the following field: - “Selected Action”: [Action 1 or Action 2].\"\"\"\n",
    "    )"
   ]
  },
  {
   "cell_type": "code",
   "execution_count": 5,
   "metadata": {},
   "outputs": [],
   "source": [
    "D=A.format_map({\n",
    "                    \"inviter_name\": 'A',\n",
    "                    \"team_member\": 'B',\n",
    "                    \"personal information\" : 'C'\n",
    "                })"
   ]
  },
  {
   "cell_type": "code",
   "execution_count": 6,
   "metadata": {},
   "outputs": [
    {
     "name": "stdout",
     "output_type": "stream",
     "text": [
      "A invites you to join his team. His personal information is as follows:\n",
      "        C. Current members of his team: B. Now you have two choices after considering these information: \n",
      "        Action 1: You choose to collaborate with A.\n",
      "        Action 2: You choose to refuse the invitation from A.\n",
      "        Please feel free to make your choice, even if your choice is to decline.\n",
      "        Please select an action and describe your reasoning using the following format:\n",
      "\n",
      "        Thought: <THOUGHT> \n",
      "        \n",
      "        Action: ```json<JSON>```\n",
      "\n",
      "        In <THOUGHT>, Explain why you chose this action, considering factors like the potential for quality, efficiency, and \n",
      "        the challenges involved.\n",
      "        In <JSON>, respond in JSON format with ONLY the following field: - “Selected Action”: [Action 1 or Action 2].\n"
     ]
    }
   ],
   "source": [
    "print(D)"
   ]
  }
 ],
 "metadata": {
  "kernelspec": {
   "display_name": "PyTorch",
   "language": "python",
   "name": "pytorch"
  },
  "language_info": {
   "codemirror_mode": {
    "name": "ipython",
    "version": 3
   },
   "file_extension": ".py",
   "mimetype": "text/x-python",
   "name": "python",
   "nbconvert_exporter": "python",
   "pygments_lexer": "ipython3",
   "version": "3.9.16"
  }
 },
 "nbformat": 4,
 "nbformat_minor": 2
}
